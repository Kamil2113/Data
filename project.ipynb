{
 "cells": [
  {
   "cell_type": "code",
   "execution_count": 71,
   "metadata": {},
   "outputs": [],
   "source": [
    "import pandas as pd\n",
    "import numpy as np\n",
    "import matplotlib.pyplot as plt"
   ]
  },
  {
   "cell_type": "code",
   "execution_count": 72,
   "metadata": {},
   "outputs": [],
   "source": [
    "## Import wartości wszystkich walut przez rok przed pandemią \n",
    "data_1=pd.read_json('http://api.nbp.pl/api/exchangerates/tables/a/2019-03-01/2019-05-30/')\n",
    "data_2=pd.read_json('http://api.nbp.pl/api/exchangerates/tables/a/2019-06-01/2019-08-31/')\n",
    "data_3=pd.read_json('http://api.nbp.pl/api/exchangerates/tables/a/2019-09-01/2019-11-30/')\n",
    "data_4=pd.read_json('http://api.nbp.pl/api/exchangerates/tables/a/2019-12-01/2020-02-29/')\n",
    "\n",
    "frames = [data_1, data_2, data_3, data_4]\n",
    "df_19 = pd.concat(frames)\n",
    "\n",
    "## Import wartości wszystkich walut przez 2lata przed pandemia\n",
    "data_1=pd.read_json('http://api.nbp.pl/api/exchangerates/tables/a/2018-03-01/2018-05-30/')\n",
    "data_2=pd.read_json('http://api.nbp.pl/api/exchangerates/tables/a/2018-06-01/2018-08-31/')\n",
    "data_3=pd.read_json('http://api.nbp.pl/api/exchangerates/tables/a/2018-09-01/2018-11-30/')\n",
    "data_4=pd.read_json('http://api.nbp.pl/api/exchangerates/tables/a/2018-12-01/2019-02-28/')\n",
    "\n",
    "frames = [data_1, data_2, data_3, data_4]\n",
    "df_18 = pd.concat(frames)\n",
    "\n",
    "## Import wartości wszystkich walut \n",
    "\n",
    "data_1=pd.read_json('http://api.nbp.pl/api/exchangerates/tables/a/2020-03-01/2020-05-30/')\n",
    "data_2=pd.read_json('http://api.nbp.pl/api/exchangerates/tables/a/2020-06-01/2020-08-31/')\n",
    "data_3=pd.read_json('http://api.nbp.pl/api/exchangerates/tables/a/2020-09-01/2020-11-30/')\n",
    "data_4=pd.read_json('http://api.nbp.pl/api/exchangerates/tables/a/2020-12-01/2021-02-28/')\n",
    "\n",
    "frames = [data_1, data_2, data_3, data_4]\n",
    "df_20 = pd.concat(frames)"
   ]
  },
  {
   "cell_type": "code",
   "execution_count": 73,
   "metadata": {},
   "outputs": [],
   "source": [
    "## Stworzenie zagnieżdzonej tabeli\n",
    "def marge_nested_column(col):\n",
    "    frames = []\n",
    "\n",
    "    for i, item in enumerate(col):\n",
    "        frames.append(pd.DataFrame.from_dict(col.iloc[i], orient='columns'))\n",
    "\n",
    "    return pd.concat(frames)\n",
    "\n",
    "\n",
    "df_18 = marge_nested_column(df_18['rates'])\n",
    "df_19 = marge_nested_column(df_19['rates'])\n",
    "df_20 = marge_nested_column(df_20['rates'])"
   ]
  },
  {
   "cell_type": "code",
   "execution_count": 113,
   "metadata": {},
   "outputs": [],
   "source": [
    "## Obliczenie średniej wartości dla każdej waluty\n",
    "\n",
    "df_18 = df18.groupby('code').mean().reset_index()\n",
    "df_19 = df19.groupby('code').mean().reset_index()\n",
    "df_20 = df20.groupby('code').mean().reset_index()"
   ]
  },
  {
   "cell_type": "code",
   "execution_count": 107,
   "metadata": {},
   "outputs": [],
   "source": [
    "## Oznaczenie walut dla krajów wysokorozwiniętych\n",
    "\n",
    "def target_dev_countries(df):\n",
    "    currencies = ['NOK', 'AUD', 'CHF', 'EUR', 'DKK', 'SGD', 'ISK', 'CAD', 'USD', 'HKD', 'NZD', 'SEK', 'GBP', 'JPY', 'KRW', 'ILS', 'CZK','CLP','HUF','HRK','RUB','RON']\n",
    "    df['dev_countries'] = np.where(df['code'].isin(currencies), 1, 0)\n",
    "    return True\n",
    "\n",
    "target_dev_countries(df_18)\n",
    "target_dev_countries(df_19)\n",
    "target_dev_countries(df_20)\n",
    "\n",
    "df_18_19 = df_18[['code','dev_countries']].copy(deep=True)\n",
    "df_18_19['diff'] = ((df_19['mid']/df_18['mid'])-1)*100\n",
    "\n",
    "df_19_20 = df_18[['code','dev_countries']].copy(deep=True)\n",
    "df_19_20['diff'] = ((df_20['mid']/df_19['mid'])-1)*100"
   ]
  },
  {
   "cell_type": "code",
   "execution_count": null,
   "metadata": {},
   "outputs": [],
   "source": []
  },
  {
   "cell_type": "code",
   "execution_count": 119,
   "metadata": {},
   "outputs": [
    {
     "data": {
      "image/png": "[encoded data removed]",
      "text/plain": [
       "<Figure size 432x288 with 1 Axes>"
      ]
     },
     "metadata": {
      "needs_background": "light"
     },
     "output_type": "display_data"
    },
    {
     "data": {
      "image/png": "[encoded data removed]",
      "text/plain": [
       "<Figure size 432x288 with 1 Axes>"
      ]
     },
     "metadata": {
      "needs_background": "light"
     },
     "output_type": "display_data"
    }
   ],
   "source": [
    "plot1 = {'currencies' : df_18_19['code'].loc[(df_18_19['dev_countries'] == 1)],\n",
    "          'before_pandemic' : df_18_19['diff'].loc[(df_18_19['dev_countries'] == 1)],\n",
    "          'during_pandemic' : df_19_20['diff'].loc[(df_18_19['dev_countries'] == 1)]}\n",
    "\n",
    "\n",
    "df = pd.DataFrame(plot1)\n",
    "df.plot('currencies',y=['before_pandemic','during_pandemic'], kind='bar')\n",
    "plt.show()\n",
    "\n",
    "plot2 = {'currencies' : df_18_19['code'].loc[(df_18_19['dev_countries'] == 0)],\n",
    "          'before_pandemic' : df_18_19['diff'].loc[(df_18_19['dev_countries'] == 0)],\n",
    "          'during_pandemic' : df_19_20['diff'].loc[(df_18_19['dev_countries'] == 0)]}\n",
    "\n",
    "\n",
    "df = pd.DataFrame(plot2)\n",
    "df.plot('currencies',y=['before_pandemic','during_pandemic'], kind='bar')\n",
    "plt.show()\n",
    "\n",
    "\n"
   ]
  },
  {
   "cell_type": "code",
   "execution_count": null,
   "metadata": {},
   "outputs": [],
   "source": []
  },
  {
   "cell_type": "code",
   "execution_count": null,
   "metadata": {},
   "outputs": [],
   "source": []
  }
 ],
 "metadata": {
  "kernelspec": {
   "display_name": "Python 3",
   "language": "python",
   "name": "python3"
  },
  "language_info": {
   "codemirror_mode": {
    "name": "ipython",
    "version": 3
   },
   "file_extension": ".py",
   "mimetype": "text/x-python",
   "name": "python",
   "nbconvert_exporter": "python",
   "pygments_lexer": "ipython3",
   "version": "3.8.5"
  }
 },
 "nbformat": 4,
 "nbformat_minor": 4
}
